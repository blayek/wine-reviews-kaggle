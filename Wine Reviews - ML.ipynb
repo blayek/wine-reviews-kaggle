{
 "cells": [
  {
   "cell_type": "code",
   "execution_count": 1,
   "metadata": {
    "collapsed": true
   },
   "outputs": [],
   "source": [
    "#Cleaning up  https://github.com/dasotelo/Python_Projects/blob/master/Wine_Bag_Boost.py\n",
    "import pandas as pd\n",
    "import numpy as np\n",
    "from sklearn.tree import DecisionTreeClassifier\n",
    "from sklearn.ensemble import BaggingClassifier\n",
    "from sklearn.ensemble import AdaBoostClassifier\n",
    "from sklearn.model_selection import train_test_split\n",
    "from sklearn.preprocessing import LabelEncoder\n",
    "from sklearn.metrics import roc_curve\n",
    "import matplotlib.pyplot as plt"
   ]
  },
  {
   "cell_type": "code",
   "execution_count": 2,
   "metadata": {},
   "outputs": [],
   "source": [
    "wine_df=pd.read_csv('winemag-data_first150k.csv')\n",
    "wine_df = wine_df[['country','points','price','region_1', 'variety','winery']]\n",
    "wine_df=wine_df.dropna(axis=0,how='any')"
   ]
  },
  {
   "cell_type": "code",
   "execution_count": 3,
   "metadata": {
    "collapsed": true
   },
   "outputs": [],
   "source": [
    "qualityCutoff = 90\n",
    "pointRange = wine_df.points.unique().tolist()\n",
    "qualityMap = {}\n",
    "for point in pointRange:\n",
    "    if point >= qualityCutoff:\n",
    "        qualityMap[point] = str(qualityCutoff) + \"+\"\n",
    "    else:\n",
    "        qualityMap[point] = \"<\" + str(qualityCutoff)\n",
    "wine_df['Quality']=wine_df.points.map(qualityMap)\n",
    "wine_df=wine_df.drop('points',axis=1)"
   ]
  },
  {
   "cell_type": "code",
   "execution_count": 4,
   "metadata": {},
   "outputs": [
    {
     "data": {
      "text/html": [
       "<div>\n",
       "<style>\n",
       "    .dataframe thead tr:only-child th {\n",
       "        text-align: right;\n",
       "    }\n",
       "\n",
       "    .dataframe thead th {\n",
       "        text-align: left;\n",
       "    }\n",
       "\n",
       "    .dataframe tbody tr th {\n",
       "        vertical-align: top;\n",
       "    }\n",
       "</style>\n",
       "<table border=\"1\" class=\"dataframe\">\n",
       "  <thead>\n",
       "    <tr style=\"text-align: right;\">\n",
       "      <th></th>\n",
       "      <th>country</th>\n",
       "      <th>price</th>\n",
       "      <th>region_1</th>\n",
       "      <th>variety</th>\n",
       "      <th>winery</th>\n",
       "      <th>Quality</th>\n",
       "    </tr>\n",
       "  </thead>\n",
       "  <tbody>\n",
       "    <tr>\n",
       "      <th>0</th>\n",
       "      <td>US</td>\n",
       "      <td>235.0</td>\n",
       "      <td>Napa Valley</td>\n",
       "      <td>Cabernet Sauvignon</td>\n",
       "      <td>Heitz</td>\n",
       "      <td>90+</td>\n",
       "    </tr>\n",
       "    <tr>\n",
       "      <th>1</th>\n",
       "      <td>Spain</td>\n",
       "      <td>110.0</td>\n",
       "      <td>Toro</td>\n",
       "      <td>Tinta de Toro</td>\n",
       "      <td>Bodega Carmen Rodríguez</td>\n",
       "      <td>90+</td>\n",
       "    </tr>\n",
       "    <tr>\n",
       "      <th>2</th>\n",
       "      <td>US</td>\n",
       "      <td>90.0</td>\n",
       "      <td>Knights Valley</td>\n",
       "      <td>Sauvignon Blanc</td>\n",
       "      <td>Macauley</td>\n",
       "      <td>90+</td>\n",
       "    </tr>\n",
       "    <tr>\n",
       "      <th>3</th>\n",
       "      <td>US</td>\n",
       "      <td>65.0</td>\n",
       "      <td>Willamette Valley</td>\n",
       "      <td>Pinot Noir</td>\n",
       "      <td>Ponzi</td>\n",
       "      <td>90+</td>\n",
       "    </tr>\n",
       "    <tr>\n",
       "      <th>4</th>\n",
       "      <td>France</td>\n",
       "      <td>66.0</td>\n",
       "      <td>Bandol</td>\n",
       "      <td>Provence red blend</td>\n",
       "      <td>Domaine de la Bégude</td>\n",
       "      <td>90+</td>\n",
       "    </tr>\n",
       "  </tbody>\n",
       "</table>\n",
       "</div>"
      ],
      "text/plain": [
       "  country  price           region_1             variety  \\\n",
       "0      US  235.0        Napa Valley  Cabernet Sauvignon   \n",
       "1   Spain  110.0               Toro       Tinta de Toro   \n",
       "2      US   90.0     Knights Valley     Sauvignon Blanc   \n",
       "3      US   65.0  Willamette Valley          Pinot Noir   \n",
       "4  France   66.0             Bandol  Provence red blend   \n",
       "\n",
       "                    winery Quality  \n",
       "0                    Heitz     90+  \n",
       "1  Bodega Carmen Rodríguez     90+  \n",
       "2                 Macauley     90+  \n",
       "3                    Ponzi     90+  \n",
       "4     Domaine de la Bégude     90+  "
      ]
     },
     "execution_count": 4,
     "metadata": {},
     "output_type": "execute_result"
    }
   ],
   "source": [
    "wine_df.head()"
   ]
  },
  {
   "cell_type": "code",
   "execution_count": 5,
   "metadata": {
    "collapsed": true
   },
   "outputs": [],
   "source": [
    "# Prepare data by labeling/encoding\n",
    "def labelCategoryData(df,label):\n",
    "    labels = LabelEncoder().fit(np.unique(df[label].values))\n",
    "    df[label+'_enc'] = labels.transform(df[label])\n",
    "    return(df)"
   ]
  },
  {
   "cell_type": "code",
   "execution_count": 6,
   "metadata": {},
   "outputs": [],
   "source": [
    "labels = ['country','region_1','variety','winery']\n",
    "for label in labels:\n",
    "    wine_df = labelCategoryData(wine_df,label)\n",
    "wine_df=wine_df.drop(['country','region_1','variety','winery'],axis=1)"
   ]
  },
  {
   "cell_type": "code",
   "execution_count": 7,
   "metadata": {},
   "outputs": [
    {
     "data": {
      "text/html": [
       "<div>\n",
       "<style>\n",
       "    .dataframe thead tr:only-child th {\n",
       "        text-align: right;\n",
       "    }\n",
       "\n",
       "    .dataframe thead th {\n",
       "        text-align: left;\n",
       "    }\n",
       "\n",
       "    .dataframe tbody tr th {\n",
       "        vertical-align: top;\n",
       "    }\n",
       "</style>\n",
       "<table border=\"1\" class=\"dataframe\">\n",
       "  <thead>\n",
       "    <tr style=\"text-align: right;\">\n",
       "      <th></th>\n",
       "      <th>price</th>\n",
       "      <th>Quality</th>\n",
       "      <th>country_enc</th>\n",
       "      <th>region_1_enc</th>\n",
       "      <th>variety_enc</th>\n",
       "      <th>winery_enc</th>\n",
       "    </tr>\n",
       "  </thead>\n",
       "  <tbody>\n",
       "    <tr>\n",
       "      <th>0</th>\n",
       "      <td>235.0</td>\n",
       "      <td>90+</td>\n",
       "      <td>6</td>\n",
       "      <td>708</td>\n",
       "      <td>40</td>\n",
       "      <td>5910</td>\n",
       "    </tr>\n",
       "    <tr>\n",
       "      <th>1</th>\n",
       "      <td>110.0</td>\n",
       "      <td>90+</td>\n",
       "      <td>5</td>\n",
       "      <td>1034</td>\n",
       "      <td>402</td>\n",
       "      <td>1008</td>\n",
       "    </tr>\n",
       "    <tr>\n",
       "      <th>2</th>\n",
       "      <td>90.0</td>\n",
       "      <td>90+</td>\n",
       "      <td>6</td>\n",
       "      <td>505</td>\n",
       "      <td>342</td>\n",
       "      <td>7294</td>\n",
       "    </tr>\n",
       "    <tr>\n",
       "      <th>3</th>\n",
       "      <td>65.0</td>\n",
       "      <td>90+</td>\n",
       "      <td>6</td>\n",
       "      <td>1183</td>\n",
       "      <td>298</td>\n",
       "      <td>8901</td>\n",
       "    </tr>\n",
       "    <tr>\n",
       "      <th>4</th>\n",
       "      <td>66.0</td>\n",
       "      <td>90+</td>\n",
       "      <td>3</td>\n",
       "      <td>62</td>\n",
       "      <td>309</td>\n",
       "      <td>4422</td>\n",
       "    </tr>\n",
       "  </tbody>\n",
       "</table>\n",
       "</div>"
      ],
      "text/plain": [
       "   price Quality  country_enc  region_1_enc  variety_enc  winery_enc\n",
       "0  235.0     90+            6           708           40        5910\n",
       "1  110.0     90+            5          1034          402        1008\n",
       "2   90.0     90+            6           505          342        7294\n",
       "3   65.0     90+            6          1183          298        8901\n",
       "4   66.0     90+            3            62          309        4422"
      ]
     },
     "execution_count": 7,
     "metadata": {},
     "output_type": "execute_result"
    }
   ],
   "source": [
    "wine_df.head()"
   ]
  },
  {
   "cell_type": "code",
   "execution_count": 8,
   "metadata": {},
   "outputs": [],
   "source": [
    "wine_train,wine_test=train_test_split(wine_df,test_size=0.90)\n",
    "x=wine_train.loc[:,['price','country_enc','region_1_enc','variety_enc','winery_enc']]\n",
    "y=wine_train['Quality']\n",
    "clf=DecisionTreeClassifier(max_features=None)\n",
    "clf=clf.fit(x,y)"
   ]
  },
  {
   "cell_type": "code",
   "execution_count": 9,
   "metadata": {},
   "outputs": [
    {
     "name": "stdout",
     "output_type": "stream",
     "text": [
      "@@@@@@@@@@@@@@@@@@@@@@@@@\n",
      "CART w/ #leaf nodes =  5313\n",
      "    5  features out of: 4 features\n",
      "   training accuracy:  98.9%\n",
      "   test accuracy:  73.3%\n"
     ]
    }
   ],
   "source": [
    "# Report classification results.  training dataset first, then test.  \n",
    "train_error=y==clf.predict(x)\n",
    "test_error=wine_test['Quality']==clf.predict(wine_test.loc[:,['price','country_enc','region_1_enc','variety_enc','winery_enc']])\n",
    "print('@@@@@@@@@@@@@@@@@@@@@@@@@')\n",
    "print('CART w/ #leaf nodes = ',clf.tree_.node_count) \n",
    "print('   ',clf.n_features_,' features out of: 4 features')                          \n",
    "print('   training accuracy: ','{:.1%}'.format(sum(train_error)/len(\n",
    "    train_error)))\n",
    "print('   test accuracy: ','{:.1%}'.format(sum(test_error)/len(test_error)))"
   ]
  },
  {
   "cell_type": "code",
   "execution_count": null,
   "metadata": {},
   "outputs": [],
   "source": [
    "# Control the number of n_estimators in ensemble functions\n",
    "max_n_ests=25\n",
    "\n",
    "# Create dataframe to record results of ensembles.\n",
    "results=pd.DataFrame([],columns=list(['type','n_leaf','n_est', 'train_acc','test_acc']))\n",
    "\n",
    "# Train bagging ensemble on iterations of n_estimators=i\n",
    "# and iterations of stump max_leaf_nodes=j\n",
    "for j in [500,2000,8000,99999]:\n",
    "    clf_stump=DecisionTreeClassifier(max_features=None,max_leaf_nodes=j)\n",
    "    for i in np.arange(1,max_n_ests):\n",
    "        #print(i)\n",
    "        baglfy=BaggingClassifier(base_estimator=clf_stump,n_estimators=i,\n",
    "            max_samples=1.0)\n",
    "        baglfy=baglfy.fit(x,y)\n",
    "        bag_tr_err=y==baglfy.predict(x)\n",
    "        bag_tst_err=wine_test['Quality']==baglfy.predict( \\\n",
    "            wine_test.loc[:,['price','country_enc','region_1_enc','variety_enc','winery_enc']])\n",
    "        run_rslt=pd.DataFrame([['bag',j,i,sum(bag_tr_err)/len(bag_tr_err),\n",
    "            sum(bag_tst_err)/len(bag_tst_err)]],\n",
    "            columns=list(['type','n_leaf','n_est','train_acc','test_acc']))\n",
    "        results=results.append(run_rslt)"
   ]
  },
  {
   "cell_type": "code",
   "execution_count": null,
   "metadata": {},
   "outputs": [],
   "source": [
    "# Train boosting ensemble on iterations of n_estimators=i\n",
    "# and iterations of stump max_leaf_nodes=j\n",
    "for j in [500,2000,8000,99999]:\n",
    "    clf_stump=DecisionTreeClassifier(max_features=None,max_leaf_nodes=j)\n",
    "    for i in np.arange(1,max_n_ests):\n",
    "        #print(i)\n",
    "        bstlfy=AdaBoostClassifier(base_estimator=clf_stump,n_estimators=i)\n",
    "        bstlfy=bstlfy.fit(x,y)\n",
    "        bst_tr_err=y==bstlfy.predict(x)\n",
    "        bst_tst_err=wine_test['Quality']==bstlfy.predict( \\\n",
    "            wine_test.loc[:,['price','country_enc','region_1_enc','variety_enc','winery_enc']])\n",
    "        run_rslt=pd.DataFrame([['bst',j,i,sum(bst_tr_err)/len(bst_tr_err),\n",
    "            sum(bst_tst_err)/len(bst_tst_err)]],\n",
    "            columns=list(['type','n_leaf','n_est','train_acc','test_acc']))\n",
    "        results=results.append(run_rslt)"
   ]
  },
  {
   "cell_type": "code",
   "execution_count": null,
   "metadata": {},
   "outputs": [],
   "source": [
    "# Plot Bagging accuracy results on test data\n",
    "# 500 leaf stumps\n",
    "plt.plot(results.loc[((results.type=='bag')&(results.n_leaf==500)), \\\n",
    "    ['n_est']],results.loc[((results.type=='bag')&(results.n_leaf==500)), \\\n",
    "    ['test_acc']],linestyle='--',linewidth=2,color='#4da6ff', \\\n",
    "    label='Bagging w/ 500 leaf stump')\n",
    "# 2000 leaf stumps\n",
    "plt.plot(results.loc[((results.type=='bag')&(results.n_leaf==2000)), \\\n",
    "    ['n_est']],results.loc[((results.type=='bag')&(results.n_leaf==2000)), \\\n",
    "    ['test_acc']],linestyle='--',linewidth=2,color='#0080ff', \\\n",
    "    label='Bagging w/ 2000 leaf stump')\n",
    "# 8000 leaf stumps\n",
    "plt.plot(results.loc[((results.type=='bag')&(results.n_leaf==8000)), \\\n",
    "    ['n_est']],results.loc[((results.type=='bag')&(results.n_leaf==8000)), \\\n",
    "    ['test_acc']],linestyle='--',linewidth=2,color='#0059b3', \\\n",
    "    label='Bagging w/ 8000 leaf stump')\n",
    "# Full Classification Trees (no early termination)\n",
    "plt.plot(results.loc[((results.type=='bag')&(results.n_leaf==99999)), \\\n",
    "    ['n_est']],results.loc[((results.type=='bag')&(results.n_leaf==99999)), \\\n",
    "    ['test_acc']],linestyle='--',linewidth=2,color='#003366', \\\n",
    "    label='Bagging w/ full tree')\n",
    "# Plot test accuracy of baseline classification tree\n",
    "clf_test_acc=sum(test_error)/len(test_error)\n",
    "plt.plot([1,max_n_ests],[clf_test_acc,clf_test_acc],color='k', \\\n",
    "    label='Baseline classification tree')\n",
    "plt.legend(fontsize=8)\n",
    "plt.title('Bagging Test Sample Accuracy on n_estimators')\n",
    "plt.ylim([results.loc[results.type=='bag',['test_acc']].values.min()-0.01, \\\n",
    "    results.loc[results.type=='bag',['test_acc']].values.max()+0.01])\n",
    "plt.ylabel('Test Accuracy%')\n",
    "plt.xlabel('n_estimators')\n",
    "plt.show()\n"
   ]
  },
  {
   "cell_type": "code",
   "execution_count": null,
   "metadata": {},
   "outputs": [],
   "source": [
    "# Plot Boosting accuracy results on test data\n",
    "# 500 leaf stumps\n",
    "plt.plot(results.loc[((results.type=='bst')&(results.n_leaf==500)), \\\n",
    "    ['n_est']],results.loc[((results.type=='bst')&(results.n_leaf==500)), \\\n",
    "    ['test_acc']],linestyle='--',linewidth=2,color='#ff704d', \\\n",
    "    label='Boosting w/ 500 leaf stump')\n",
    "# 2000 leaf stumps\n",
    "plt.plot(results.loc[((results.type=='bst')&(results.n_leaf==2000)), \\\n",
    "    ['n_est']],results.loc[((results.type=='bst')&(results.n_leaf==2000)), \\\n",
    "    ['test_acc']],linestyle='--',linewidth=2,color='#ff3300', \\\n",
    "    label='Boosting w/ 2000 leaf stump')\n",
    "# 8000 leaf stumps\n",
    "plt.plot(results.loc[((results.type=='bst')&(results.n_leaf==8000)), \\\n",
    "    ['n_est']],results.loc[((results.type=='bst')&(results.n_leaf==8000)), \\\n",
    "    ['test_acc']],linestyle='--',linewidth=2,color='#b32400', \\\n",
    "    label='Boosting w/ 8000 leaf stump')\n",
    "# Full Classification Trees (no early termination)\n",
    "plt.plot(results.loc[((results.type=='bst')&(results.n_leaf==99999)), \\\n",
    "    ['n_est']],results.loc[((results.type=='bst')&(results.n_leaf==99999)), \\\n",
    "    ['test_acc']],linestyle='--',linewidth=2,color='#661400', \\\n",
    "    label='Boosting w/ full tree')\n",
    "# Plot test accuracy of baseline classification tree\n",
    "plt.plot([1,max_n_ests],[clf_test_acc,clf_test_acc],color='k', \\\n",
    "    label='Baseline classification tree')\n",
    "plt.legend(fontsize=8)\n",
    "plt.title('Boosting Test Sample Accuracy on n_estimators')\n",
    "plt.ylim([results.loc[results.type=='bst',['test_acc']].values.min()-0.01, \\\n",
    "    results.loc[results.type=='bst',['test_acc']].values.max()+0.01])\n",
    "plt.ylabel('Test Accuracy%')\n",
    "plt.xlabel('n_estimators')\n",
    "plt.show()"
   ]
  },
  {
   "cell_type": "code",
   "execution_count": null,
   "metadata": {
    "collapsed": true
   },
   "outputs": [],
   "source": [
    "# ROC curve for baseline classification tree\n",
    "clf_probs=clf.predict_proba(wine_test.loc[:,['price','country_enc','region_1_enc','variety_enc','winery_enc']])\n",
    "fpr1,tpr1,thr1=roc_curve(np.where(wine_test['Quality']=='90+',1.,0.), \\\n",
    "    clf_probs[:,0])\n",
    "# ROC curve for bagging ensemble using full classification trees\n",
    "bag_probs=baglfy.predict_proba(wine_test.loc[:,['price','country_enc','region_1_enc','variety_enc','winery_enc']])\n",
    "fpr2,tpr2,thr2=roc_curve(np.where(wine_test['Quality']=='90+',1.,0.), \\\n",
    "    bag_probs[:,0])\n",
    "# ROC curve for boosting ensemble using full classification trees\n",
    "bst_probs=bstlfy.predict_proba(wine_test.loc[:,['price','country_enc','region_1_enc','variety_enc','winery_enc']])\n",
    "fpr3,tpr3,thr3=roc_curve(np.where(wine_test['Quality']=='90+',1.,0.), \\\n",
    "    bst_probs[:,0])"
   ]
  },
  {
   "cell_type": "code",
   "execution_count": null,
   "metadata": {},
   "outputs": [],
   "source": [
    "# Plot ROC Curves\n",
    "plt.plot(fpr1,tpr1,color='#4d4d33',label='Baseline CART')\n",
    "plt.plot(fpr2,tpr2,color='#0080ff',label='Bagging Ensemble')\n",
    "plt.plot(fpr3,tpr3,color='#ff3300',label='Boosting Ensemble')\n",
    "plt.plot([0.,1.],[0.,1.],color='k',linestyle='--')\n",
    "plt.title('ROC Curves for 90+ Point Wine Classification')\n",
    "plt.xlabel('false positive rate')\n",
    "plt.ylabel('true positive rate')\n",
    "plt.legend(fontsize=8)\n",
    "plt.show()"
   ]
  }
 ],
 "metadata": {
  "kernelspec": {
   "display_name": "Python 3",
   "language": "python",
   "name": "python3"
  },
  "language_info": {
   "codemirror_mode": {
    "name": "ipython",
    "version": 3
   },
   "file_extension": ".py",
   "mimetype": "text/x-python",
   "name": "python",
   "nbconvert_exporter": "python",
   "pygments_lexer": "ipython3",
   "version": "3.6.1"
  }
 },
 "nbformat": 4,
 "nbformat_minor": 2
}
